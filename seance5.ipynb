{
 "cells": [
  {
   "cell_type": "code",
   "execution_count": 6,
   "metadata": {},
   "outputs": [],
   "source": [
    "import sympy as Sp"
   ]
  },
  {
   "cell_type": "markdown",
   "metadata": {},
   "source": [
    "Ex1:\n",
    "    \n",
    "1. Ecrire une fonction qui prend en entrée une fonction f et des réels a et h et donne en sortie le taux de variation (ou d'accroissement) de la fonction f entre le point d'abscisse a+h et a.\n",
    "2. Tester avec f(x)=3x^3+1x^2-5"
   ]
  },
  {
   "source": [
    "\"\"\"Calcul de la fonction\"\"\"\n",
    "def fonction(x):\n",
    "    return 3 * pow(int(x), 3) + 1 * pow(int(x), 2) - 5\n",
    "     \n",
    "\"\"\"Calcul du taux de variation\"\"\"\n",
    "def tauxvar(fonction, a, h):\n",
    "    Var = (fonction(a+h)-fonction(a))/h\n",
    "    return Var\n",
    "\n",
    "#print du taux\n",
    "print(tauxvar(fonction, 10, 3))\n",
    "\n"
   ],
   "cell_type": "code",
   "metadata": {},
   "execution_count": 9,
   "outputs": [
    {
     "output_type": "stream",
     "name": "stdout",
     "text": [
      "1220.0\n"
     ]
    }
   ]
  },
  {
   "source": [
    "Ex2:<br>\n",
    "1. Ecrire une fonction qui calcule la liste des coefficients directeurs pour une fonction f définit sur I=[a;b] avec un pas \"p\" <br>\n",
    "2. Tester avec f(x)=(1+x)/(x-4) définit sur I=[0,1] avec un pas de 0.01"
   ],
   "cell_type": "markdown",
   "metadata": {}
  },
  {
   "cell_type": "code",
   "execution_count": 11,
   "metadata": {},
   "outputs": [
    {
     "output_type": "stream",
     "name": "stdout",
     "text": [
      "[-0.32051282051282104, -0.33738191632928405, -0.3556187766714086, -0.3753753753753747, -0.3968253968253971, -0.4201680672268915, -0.4456327985739744, -0.4734848484848475, -0.5040322580645162, -0.5376344086021512, -0.5747126436781591]\n"
     ]
    }
   ],
   "source": [
    "\"\"\"\n",
    "Ex2:\n",
    "1. Ecrire une fonction qui calcule la liste des coefficients directeurs pour une fonction f définit sur I=a;b avec un pas \"p\"\n",
    "2. Tester avec f(x)=(1+x)/(x-4) définit sur I=0,1 avec un pas de 0.01\n",
    "\"\"\"\n",
    "def coeff(fonction,a,b,p ):\n",
    "    \"\"\"\n",
    "    docstring\n",
    "    \"\"\"\n",
    "    liste_coeff = []\n",
    "    n = a\n",
    "    while n <= b:\n",
    "        \n",
    "        coef_calc = (fonction(n+p) - fonction(n)) / (p) \n",
    "        liste_coeff.append(coef_calc)\n",
    "        n += p\n",
    "        \n",
    "        \n",
    "    return liste_coeff\n",
    "\n",
    "def fonction(x):\n",
    "    return (1 + x)/(x-4)\n",
    "    \n",
    "print(coeff(fonction,0,1,0.1))"
   ]
  },
  {
   "source": [
    "Ex3:<br>\n",
    "on considère une suite U définie par Un+1=Un+n+1 et de premier terme U0. Ecrire une fonction qui prend en entrée les valeurs de n et U0 et affiche la valeur de Un.<br>\n",
    "1. De facon iterative<br>\n",
    "2. Par recurence<br>"
   ],
   "cell_type": "markdown",
   "metadata": {}
  },
  {
   "cell_type": "code",
   "execution_count": null,
   "metadata": {},
   "outputs": [],
   "source": [
    "\n",
    "def suite(nmax,u0):\n",
    "    Un = u0\n",
    "    for n in range(0,nmax):\n",
    "        #regardez pas les nom de variable\n",
    "        #print(Un)\n",
    "        Un1 = Un + n +1\n",
    "        Un = Un1\n",
    "    print(\"U\",nmax,\" = \",Un)\n",
    "\n",
    "suite(5,0)\n",
    "\n",
    "\n",
    "\n",
    "def suite_recurrence(n, nmax, Un):\n",
    "    calc = Un + n + 1\n",
    "    n+=1\n",
    "    if n != nmax:\n",
    "        return suite_recurrence(n, nmax, calc)\n",
    "    else:\n",
    "        print(\"U\",nmax,\" = \",calc)\n",
    "suite_recurrence(0, 5, 0)"
   ]
  },
  {
   "cell_type": "markdown",
   "metadata": {},
   "source": [
    "Ex4:\n",
    "On pose Tn=n^2−(n−1)^2 ainsi que Sn=T1+T2+T3+...+Tn.\n",
    "1. Etant donné n, afficher la valeur de Sn."
   ]
  },
  {
   "source": [
    "def calcSn(fonction,Nmax):\n",
    "    \"\"\"\n",
    "    Sn = T1 + T2 + T3\n",
    "    \"\"\"\n",
    "    Sn = 0\n",
    "    for n in range(1,Nmax+1):\n",
    "        Sn += fonction(n)\n",
    "    \n",
    "    print(Sn)\n",
    "\n",
    "def fonction(n):\n",
    "    return pow(n, 2) - pow(( n - 1 ),2)\n",
    "\n",
    "\n",
    "calcSn(fonction,1)"
   ],
   "cell_type": "code",
   "metadata": {},
   "execution_count": 13,
   "outputs": [
    {
     "output_type": "stream",
     "name": "stdout",
     "text": [
      "1\n"
     ]
    }
   ]
  },
  {
   "source": [
    "Ex5:<br>\n",
    "Soit la suite définie par Un+1=0.5.Un et de premier terme U0. Plus la valeur de n augmente, plus les valeurs de Un se rapprochent de 0.<br>\n",
    "<br>\n",
    "Ecrire une fonction qui permet de déterminer pour un réel positif e donné, quel est le plus petit entier n tel que la valeur de Un soit inférieure à e.<br>\n",
    "\n"
   ],
   "cell_type": "markdown",
   "metadata": {}
  },
  {
   "cell_type": "code",
   "execution_count": 14,
   "metadata": {},
   "outputs": [
    {
     "output_type": "stream",
     "name": "stdout",
     "text": [
      "La valeur de Un = U2 vaut 0.5 c'est le plus proche de 0.6.\n"
     ]
    }
   ],
   "source": [
    "def function(e):\n",
    "    Un = 2#<= U0\n",
    "    n = 0\n",
    "    while Un > e:\n",
    "        n += 1\n",
    "        Un = Un * 0.5 \n",
    "    print(f\"La valeur de Un = U{n} vaut {Un} c'est le plus proche de {e}.\")\n",
    "\n",
    "\n",
    "function(0.6)"
   ]
  },
  {
   "source": [
    "Ex6: Constante K de Catalan : https://fr.wikipedia.org/wiki/Constante_de_Catalan<br>\n",
    "Ecrire une fonction qui permet de retourner une valeur approchée de la constante K et en s’arrêtant dès que la valeur absolue de la différence entre deux somme successives devienne inférieure ou égale à une erreur epsilon donnée en paramètre.<br>\n"
   ],
   "cell_type": "markdown",
   "metadata": {}
  },
  {
   "cell_type": "code",
   "execution_count": null,
   "metadata": {},
   "outputs": [],
   "source": [
    "\n",
    "def function(e): \n",
    "    #Init function\n",
    "    val_x = 1\n",
    "    val_y = val_x - 1 / (3**2)\n",
    "    signe = 1\n",
    "    valeur = 5\n",
    "    #boucle \n",
    "    while abs(val_y - val_x) > e:\n",
    "       val_x = val_y\n",
    "       val_y = val_x + signe * (1 / (valeur**2) )\n",
    "       valeur += 2\n",
    "       signe *= (-1)\n",
    "    return val_y\n",
    " \n",
    "\n",
    "print(function(0.0000005))\n",
    "#K = 0,915'965'594\n"
   ]
  },
  {
   "source": [
    "Ex 7:<br>\n",
    "Ecrivez une fonction permettant de calculer la limite à epsilon près de la suite définie par la relation de récurrence :<br>\n",
    "<br>\n",
    "U0 =2<br>\n",
    "Un+1= Un + 2/Un  , n>0.<br>\n",
    "<br>\n",
    "On arrête d’itérer quand l’intervalle entre 2 termes consécutifs devient strictement inférieur à epsilon.<br>\n"
   ],
   "cell_type": "markdown",
   "metadata": {}
  },
  {
   "cell_type": "code",
   "execution_count": null,
   "metadata": {},
   "outputs": [],
   "source": [
    "def limite(e):\n",
    "    Un = 2 #<= U0\n",
    "    Un1 = Un + 2 / Un\n",
    "    while abs(Un1 - Un) > e:\n",
    "        #print(Un1)\n",
    "        Un = Un1\n",
    "        Un1 = Un + 2/Un\n",
    "        \n",
    "    return Un1\n",
    " \n",
    " \n",
    "print(limite(0.5))"
   ]
  }
 ],
 "metadata": {
  "kernelspec": {
   "name": "Python 3.9.0 64-bit",
   "display_name": "Python 3.9.0 64-bit",
   "metadata": {
    "interpreter": {
     "hash": "ff79d24138e397d1ebd0fd6b09fc29f8862557961364ae7fb3c33d1ef4bac484"
    }
   }
  },
  "language_info": {
   "codemirror_mode": {
    "name": "ipython",
    "version": 3
   },
   "file_extension": ".py",
   "mimetype": "text/x-python",
   "name": "python",
   "nbconvert_exporter": "python",
   "pygments_lexer": "ipython3",
   "version": "3.9.0-final"
  }
 },
 "nbformat": 4,
 "nbformat_minor": 4
}